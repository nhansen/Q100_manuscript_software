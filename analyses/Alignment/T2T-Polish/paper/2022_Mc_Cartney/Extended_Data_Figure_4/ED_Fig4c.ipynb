{
 "cells": [
  {
   "cell_type": "code",
   "execution_count": 2,
   "id": "incoming-vanilla",
   "metadata": {},
   "outputs": [],
   "source": [
    "import pandas as pd\n",
    "import numpy as np\n",
    "from scipy import stats\n",
    "import matplotlib.pyplot as plt\n",
    "\n",
    "%matplotlib inline"
   ]
  },
  {
   "cell_type": "code",
   "execution_count": 3,
   "id": "employed-greeting",
   "metadata": {},
   "outputs": [
    {
     "name": "stdout",
     "output_type": "stream",
     "text": [
      "Untitled.ipynb                       random.repeat.bed\r\n",
      "non_repeats.bed                      random.repeat.polishing_rate.txt\r\n",
      "random.non_repeat.bed                \u001b[35mrepeats.bed\u001b[m\u001b[m\r\n",
      "random.non_repeat.polishing_rate.txt repeats.merged.bed\r\n"
     ]
    }
   ],
   "source": [
    "!ls"
   ]
  },
  {
   "cell_type": "markdown",
   "id": "sixth-process",
   "metadata": {},
   "source": [
    "I used the following script to produce the files\n",
    "```bash\n",
    "bedtools merge -i <(sort -k1,1 -k2,2n -k3,3n repeats.bed) > repeats.merged.bed\n",
    "bedtools complement -i repeats.merged.bed -g <(sort -k1,1 -k2,2n ~/Projects/CHM13/self_sv/validation/20200921/t2t-chm13.20200921.fasta.fai) > non_repeats.bed\n",
    "\n",
    "bedtools random -g ~/Projects/CHM13/self_sv/validation/20200921/t2t-chm13.20200921.fasta.fai -l 100000 -n 20000 -seed 32 | bedtools intersect -v -a - -b repeats.merged.bed > random.non_repeat.bed\n",
    "bedtools coverage -a random.non_repeat.bed -b ../../pe.bed | cut -f 10 > random.non_repeat.polishing_rate.txt\n",
    "\n",
    "bedtools random -g ~/Projects/CHM13/self_sv/validation/20200921/t2t-chm13.20200921.fasta.fai -l 100000 -n 20000 -seed 33 | bedtools intersect -v -a - -b non_repeats.bed > random.repeat.bed\n",
    "bedtools coverage -a random.repeat.bed -b ../../pe.bed | cut -f 10 > random.repeat.polishing_rate.txt\n",
    "```\n",
    "\n",
    "First, plot the distribution of polishing rates within and without repeats."
   ]
  },
  {
   "cell_type": "code",
   "execution_count": 4,
   "id": "official-silence",
   "metadata": {},
   "outputs": [],
   "source": [
    "df_without_repeats = pd.read_csv(\"random.non_repeat.polishing_rate.txt\", names=[\"rate\"])\n",
    "df_within_repeats = pd.read_csv(\"random.repeat.polishing_rate.txt\", names=[\"rate\"])"
   ]
  },
  {
   "cell_type": "code",
   "execution_count": 7,
   "id": "productive-processing",
   "metadata": {},
   "outputs": [
    {
     "data": {
      "image/png": "[encoded data removed]",
      "text/plain": [
       "<Figure size 288x216 with 1 Axes>"
      ]
     },
     "metadata": {
      "needs_background": "light"
     },
     "output_type": "display_data"
    }
   ],
   "source": [
    "plt.figure(figsize=(4, 3))\n",
    "plt.yscale(\"log\")\n",
    "plt.hist([df_without_repeats[\"rate\"], df_within_repeats[\"rate\"]], bins=50, label=[\"without_repeats\",\"within_repeats\"])\n",
    "plt.xlabel(\"polishing rate\")\n",
    "plt.ylabel(\"count\")\n",
    "plt.legend()\n",
    "plt.tight_layout()\n",
    "plt.savefig(\"ED_Fig4c.pdf\")"
   ]
  },
  {
   "cell_type": "markdown",
   "id": "unable-chemical",
   "metadata": {},
   "source": [
    "Next, let's do a t-test."
   ]
  },
  {
   "cell_type": "code",
   "execution_count": 9,
   "id": "offensive-mitchell",
   "metadata": {},
   "outputs": [
    {
     "data": {
      "text/plain": [
       "Ttest_indResult(statistic=-0.2849485963580353, pvalue=0.8515)"
      ]
     },
     "execution_count": 9,
     "metadata": {},
     "output_type": "execute_result"
    }
   ],
   "source": [
    "stats.ttest_ind(df_without_repeats[\"rate\"], df_within_repeats[\"rate\"], permutations=10000)"
   ]
  },
  {
   "cell_type": "code",
   "execution_count": null,
   "id": "super-bradley",
   "metadata": {},
   "outputs": [],
   "source": []
  },
  {
   "cell_type": "code",
   "execution_count": null,
   "id": "hollywood-supervision",
   "metadata": {},
   "outputs": [],
   "source": []
  }
 ],
 "metadata": {
  "kernelspec": {
   "display_name": "Python 3",
   "language": "python",
   "name": "python3"
  },
  "language_info": {
   "codemirror_mode": {
    "name": "ipython",
    "version": 3
   },
   "file_extension": ".py",
   "mimetype": "text/x-python",
   "name": "python",
   "nbconvert_exporter": "python",
   "pygments_lexer": "ipython3",
   "version": "3.8.2"
  }
 },
 "nbformat": 4,
 "nbformat_minor": 5
}
