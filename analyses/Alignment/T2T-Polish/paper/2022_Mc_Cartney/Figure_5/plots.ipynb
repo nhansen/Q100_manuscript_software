{
 "cells": [
  {
   "cell_type": "code",
   "execution_count": 2,
   "id": "ruled-synthesis",
   "metadata": {},
   "outputs": [],
   "source": [
    "import pandas as pd\n",
    "import numpy as np\n",
    "import seaborn as sns\n",
    "import matplotlib.pyplot as plt\n",
    "\n",
    "%matplotlib inline\n",
    "sns.set(style=\"whitegrid\", palette=\"muted\", color_codes=True)"
   ]
  },
  {
   "cell_type": "code",
   "execution_count": 3,
   "id": "attractive-circumstances",
   "metadata": {},
   "outputs": [
    {
     "name": "stdout",
     "output_type": "stream",
     "text": [
      "1M.windows.bed               \u001b[35mracon.round3.vcf\u001b[m\u001b[m\r\n",
      "1M.windows.dv.cov.bed        regions.bed\r\n",
      "1M.windows.rc.cov.bed        run_bedtools.sh\r\n",
      "1M.windows.rm.cov.bed        \u001b[35msv_small_no_rDNA.vcf\u001b[m\u001b[m\r\n",
      "plots.ipynb                  \u001b[35mt2t-chm13.20200904.fasta.fai\u001b[m\u001b[m\r\n",
      "\u001b[35mracon.round3.merfin.vcf\u001b[m\u001b[m\r\n"
     ]
    }
   ],
   "source": [
    "!ls"
   ]
  },
  {
   "cell_type": "code",
   "execution_count": 79,
   "id": "brave-paste",
   "metadata": {},
   "outputs": [],
   "source": [
    "df_dv = pd.read_csv(\"1M.windows.dv.cov.bed\", sep=\"\\t\", names=[\"chrom\", \"start\", \"end\", \"cov\", \"x\", \"y\", \"z\"])\n",
    "df_dv[\"Polisher\"] = \"DeepVariant\"\n",
    "\n",
    "df_rc = pd.read_csv(\"1M.windows.rc.cov.bed\", sep=\"\\t\", names=[\"chrom\", \"start\", \"end\", \"cov\", \"x\", \"y\", \"z\"])\n",
    "df_rc[\"Polisher\"] = \"Racon\"\n",
    "\n",
    "df_rm = pd.read_csv(\"1M.windows.rm.cov.bed\", sep=\"\\t\", names=[\"chrom\", \"start\", \"end\", \"cov\", \"x\", \"y\", \"z\"])\n",
    "df_rm[\"Polisher\"] = \"Racon-Merfin\"\n",
    "\n",
    "df = pd.concat([df_dv, df_rc, df_rm])"
   ]
  },
  {
   "cell_type": "markdown",
   "id": "logical-modem",
   "metadata": {},
   "source": [
    "# Plotting the Distribution\n",
    "First, we will plot the distribution of the number of polishing edits in 1 Mbp windows."
   ]
  },
  {
   "cell_type": "code",
   "execution_count": 112,
   "id": "chronic-bruce",
   "metadata": {
    "scrolled": true
   },
   "outputs": [
    {
     "data": {
      "image/png": "[encoded data removed]",
      "text/plain": [
       "<Figure size 504x360 with 1 Axes>"
      ]
     },
     "metadata": {},
     "output_type": "display_data"
    }
   ],
   "source": [
    "# color pallete: https://colorbrewer2.org/?type=qualitative&scheme=Dark2&n=3\n",
    "fig, ax = plt.subplots(figsize=(7, 5))\n",
    "sns.histplot(data=df,\n",
    "             x=\"cov\",\n",
    "             hue=\"Polisher\",\n",
    "             bins=100,\n",
    "             ax=ax,\n",
    "             element=\"step\",\n",
    "             fill=False,\n",
    "             palette=[\"#1b9e77\", \"#d95f02\", \"#7570b3\"]\n",
    "            )\n",
    "plt.yscale('log')\n",
    "plt.xlabel(\"# Corrections in 1 Mbp Windows\")\n",
    "plt.axvline(60, color=\"red\")\n",
    "plt.savefig(\"polishing_edit_hist.pdf\")\n",
    "plt.show()"
   ]
  }
 ],
 "metadata": {
  "kernelspec": {
   "display_name": "Python 3",
   "language": "python",
   "name": "python3"
  },
  "language_info": {
   "codemirror_mode": {
    "name": "ipython",
    "version": 3
   },
   "file_extension": ".py",
   "mimetype": "text/x-python",
   "name": "python",
   "nbconvert_exporter": "python",
   "pygments_lexer": "ipython3",
   "version": "3.8.2"
  }
 },
 "nbformat": 4,
 "nbformat_minor": 5
}
